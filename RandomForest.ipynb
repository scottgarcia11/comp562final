{
 "cells": [
  {
   "cell_type": "code",
   "execution_count": 11,
   "metadata": {},
   "outputs": [],
   "source": [
    "import numpy as np\n",
    "import pandas as pd\n",
    "from sklearn.model_selection import train_test_split, GridSearchCV, RandomizedSearchCV\n",
    "from sklearn.ensemble import RandomForestClassifier\n",
    "from sklearn.metrics import accuracy_score\n",
    "from sklearn.datasets import make_classification\n"
   ]
  },
  {
   "cell_type": "code",
   "execution_count": 12,
   "metadata": {},
   "outputs": [],
   "source": [
    "#extract data and create train/test subsets\n",
    "\n",
    "train = pd.read_csv('train.csv')\n",
    "X = train.iloc[:,2:]\n",
    "species = train.iloc[:,1]\n",
    "y = pd.factorize(species)[0]\n",
    "\n",
    "\n",
    "xTrain, xTest, yTrain, yTest = train_test_split(X, y, test_size = 0.2, random_state = 0)\n",
    "\n"
   ]
  },
  {
   "cell_type": "code",
   "execution_count": 19,
   "metadata": {},
   "outputs": [
    {
     "name": "stdout",
     "output_type": "stream",
     "text": [
      "Fitting 3 folds for each of 100 candidates, totalling 300 fits\n"
     ]
    },
    {
     "name": "stderr",
     "output_type": "stream",
     "text": [
      "[Parallel(n_jobs=-1)]: Using backend LokyBackend with 4 concurrent workers.\n",
      "[Parallel(n_jobs=-1)]: Done  33 tasks      | elapsed:  1.7min\n",
      "/Users/Travis/anaconda3/lib/python3.7/site-packages/sklearn/externals/joblib/externals/loky/process_executor.py:706: UserWarning: A worker stopped while some jobs were given to the executor. This can be caused by a too short worker timeout or by a memory leak.\n",
      "  \"timeout or by a memory leak.\", UserWarning\n",
      "[Parallel(n_jobs=-1)]: Done 154 tasks      | elapsed: 10.8min\n",
      "[Parallel(n_jobs=-1)]: Done 300 out of 300 | elapsed: 18.0min finished\n",
      "/Users/Travis/anaconda3/lib/python3.7/site-packages/sklearn/model_selection/_search.py:841: DeprecationWarning: The default of the `iid` parameter will change from True to False in version 0.22 and will be removed in 0.24. This will change numeric results when test-set sizes are unequal.\n",
      "  DeprecationWarning)\n"
     ]
    },
    {
     "name": "stdout",
     "output_type": "stream",
     "text": [
      "{'n_estimators': 2000, 'min_samples_split': 5, 'min_samples_leaf': 2, 'max_features': 'auto', 'max_depth': 90, 'bootstrap': True}\n"
     ]
    }
   ],
   "source": [
    "#search for best parameters using random search\n",
    "\n",
    "rf = RandomForestClassifier()\n",
    "\n",
    "# Number of trees in random forest\n",
    "n_estimators = [int(x) for x in np.linspace(start = 200, stop = 2000, num = 10)]\n",
    "# Number of features to consider at every split\n",
    "max_features = ['auto', 'sqrt']\n",
    "# Maximum number of levels in tree\n",
    "max_depth = [int(x) for x in np.linspace(10, 110, num = 11)]\n",
    "max_depth.append(None)\n",
    "# Minimum number of samples required to split a node\n",
    "min_samples_split = [2, 5, 10]\n",
    "# Minimum number of samples required at each leaf node\n",
    "min_samples_leaf = [1, 2, 4]\n",
    "# Method of selecting samples for training each tree\n",
    "bootstrap = [True, False]\n",
    "# Create the random grid\n",
    "random_grid = {'n_estimators': n_estimators,\n",
    "               'max_features': max_features,\n",
    "               'max_depth': max_depth,\n",
    "               'min_samples_split': min_samples_split,\n",
    "               'min_samples_leaf': min_samples_leaf,\n",
    "               'bootstrap': bootstrap}\n",
    "\n",
    "rf_random = RandomizedSearchCV(estimator = rf, param_distributions = random_grid, n_iter=100, cv=3, verbose=2, random_state=0, n_jobs=-1)\n",
    "rf_random.fit(xTrain, yTrain)\n",
    "\n",
    "print (rf_random.best_params_)"
   ]
  },
  {
   "cell_type": "code",
   "execution_count": 28,
   "metadata": {},
   "outputs": [
    {
     "name": "stdout",
     "output_type": "stream",
     "text": [
      "Fitting 3 folds for each of 144 candidates, totalling 432 fits\n"
     ]
    },
    {
     "name": "stderr",
     "output_type": "stream",
     "text": [
      "[Parallel(n_jobs=-1)]: Using backend LokyBackend with 4 concurrent workers.\n",
      "[Parallel(n_jobs=-1)]: Done   5 tasks      | elapsed:   37.0s\n",
      "[Parallel(n_jobs=-1)]: Done  10 tasks      | elapsed:  1.3min\n",
      "[Parallel(n_jobs=-1)]: Done  17 tasks      | elapsed:  2.0min\n",
      "[Parallel(n_jobs=-1)]: Done  24 tasks      | elapsed:  2.9min\n",
      "[Parallel(n_jobs=-1)]: Done  33 tasks      | elapsed:  3.8min\n",
      "[Parallel(n_jobs=-1)]: Done  42 tasks      | elapsed:  4.8min\n",
      "[Parallel(n_jobs=-1)]: Done  53 tasks      | elapsed:  5.9min\n",
      "[Parallel(n_jobs=-1)]: Done  64 tasks      | elapsed:  7.0min\n",
      "[Parallel(n_jobs=-1)]: Done  77 tasks      | elapsed:  8.3min\n",
      "[Parallel(n_jobs=-1)]: Done  90 tasks      | elapsed:  9.7min\n",
      "[Parallel(n_jobs=-1)]: Done 105 tasks      | elapsed: 11.3min\n",
      "[Parallel(n_jobs=-1)]: Done 120 tasks      | elapsed: 12.9min\n",
      "[Parallel(n_jobs=-1)]: Done 137 tasks      | elapsed: 14.6min\n",
      "[Parallel(n_jobs=-1)]: Done 154 tasks      | elapsed: 16.5min\n",
      "[Parallel(n_jobs=-1)]: Done 173 tasks      | elapsed: 18.4min\n",
      "[Parallel(n_jobs=-1)]: Done 192 tasks      | elapsed: 20.4min\n",
      "[Parallel(n_jobs=-1)]: Done 213 tasks      | elapsed: 22.4min\n",
      "[Parallel(n_jobs=-1)]: Done 234 tasks      | elapsed: 24.4min\n",
      "[Parallel(n_jobs=-1)]: Done 257 tasks      | elapsed: 26.6min\n",
      "[Parallel(n_jobs=-1)]: Done 280 tasks      | elapsed: 28.9min\n",
      "[Parallel(n_jobs=-1)]: Done 305 tasks      | elapsed: 31.4min\n",
      "[Parallel(n_jobs=-1)]: Done 330 tasks      | elapsed: 33.9min\n",
      "[Parallel(n_jobs=-1)]: Done 357 tasks      | elapsed: 36.9min\n",
      "[Parallel(n_jobs=-1)]: Done 384 tasks      | elapsed: 39.9min\n",
      "[Parallel(n_jobs=-1)]: Done 413 tasks      | elapsed: 42.8min\n",
      "[Parallel(n_jobs=-1)]: Done 432 out of 432 | elapsed: 45.0min finished\n",
      "/Users/Travis/anaconda3/lib/python3.7/site-packages/sklearn/model_selection/_search.py:841: DeprecationWarning: The default of the `iid` parameter will change from True to False in version 0.22 and will be removed in 0.24. This will change numeric results when test-set sizes are unequal.\n",
      "  DeprecationWarning)\n"
     ]
    },
    {
     "name": "stdout",
     "output_type": "stream",
     "text": [
      "RandomForestClassifier(bootstrap=True, class_weight=None, criterion='gini',\n",
      "            max_depth=80, max_features='auto', max_leaf_nodes=None,\n",
      "            min_impurity_decrease=0.0, min_impurity_split=None,\n",
      "            min_samples_leaf=1, min_samples_split=2,\n",
      "            min_weight_fraction_leaf=0.0, n_estimators=2500, n_jobs=None,\n",
      "            oob_score=False, random_state=None, verbose=0,\n",
      "            warm_start=False)\n",
      "0.9494949494949495\n"
     ]
    }
   ],
   "source": [
    "#conduct grid search with cross validation based on results from random search\n",
    "\n",
    "param_grid = {\n",
    "    'n_estimators': [1000, 1500, 2000, 2500],\n",
    "    'max_features': ['auto', 'sqrt'],\n",
    "    'max_depth': [80,90,100],\n",
    "    'bootstrap': [True],\n",
    "    'min_samples_split': [2,3,5],\n",
    "    'min_samples_leaf': [1,2]\n",
    "}\n",
    "\n",
    "rf = RandomForestClassifier()\n",
    "grid_search = GridSearchCV(estimator=rf, param_grid=param_grid,cv=3,n_jobs=-1, verbose=10)\n",
    "grid_search.fit(xTrain,yTrain)\n",
    "\n",
    "best_grid = grid_search.best_estimator_\n",
    "print(best_grid)\n",
    "best_grid.fit(xTrain,yTrain)\n",
    "pred = best_grid.predict(xTest)\n",
    "grid_accuracy = accuracy_score(pred,yTest)\n",
    "print('Accuracy = ', grid_accuracy)"
   ]
  },
  {
   "cell_type": "code",
   "execution_count": 27,
   "metadata": {},
   "outputs": [
    {
     "name": "stderr",
     "output_type": "stream",
     "text": [
      "[Parallel(n_jobs=1)]: Using backend SequentialBackend with 1 concurrent workers.\n",
      "[Parallel(n_jobs=1)]: Done 1200 out of 1200 | elapsed:   12.6s finished\n",
      "[Parallel(n_jobs=1)]: Using backend SequentialBackend with 1 concurrent workers.\n",
      "[Parallel(n_jobs=1)]: Done 1200 out of 1200 | elapsed:    0.3s finished\n"
     ]
    },
    {
     "name": "stdout",
     "output_type": "stream",
     "text": [
      "0.9545454545454546\n",
      "0.9545454545454546\n",
      "0.9545454545454546\n"
     ]
    }
   ],
   "source": [
    "best_param = RandomForestClassifier(bootstrap=True, class_weight=None, criterion='gini',\n",
    "            max_depth=80, max_features='sqrt', max_leaf_nodes=None,\n",
    "            min_impurity_decrease=0.0, min_impurity_split=None,\n",
    "            min_samples_leaf=1, min_samples_split=3,\n",
    "            min_weight_fraction_leaf=0.0, n_estimators=1200, n_jobs=None,\n",
    "            oob_score=False, random_state=None, verbose=1,\n",
    "            warm_start=False)\n",
    "\n",
    "best_param1 = RandomForestClassifier(bootstrap=True, class_weight=None, criterion='gini',\n",
    "            max_depth=80, max_features='sqrt', max_leaf_nodes=None,\n",
    "            min_impurity_decrease=0.0, min_impurity_split=None,\n",
    "            min_samples_leaf=2, min_samples_split=2,\n",
    "            min_weight_fraction_leaf=0.0, n_estimators=1500, n_jobs=None,\n",
    "            oob_score=False, random_state=None, verbose=0,\n",
    "            warm_start=False)\n",
    "\n",
    "best_param2=RandomForestClassifier(bootstrap=True, class_weight=None, criterion='gini',\n",
    "            max_depth=80, max_features='auto', max_leaf_nodes=None,\n",
    "            min_impurity_decrease=0.0, min_impurity_split=None,\n",
    "            min_samples_leaf=1, min_samples_split=2,\n",
    "            min_weight_fraction_leaf=0.0, n_estimators=1000, n_jobs=None,\n",
    "            oob_score=False, random_state=None, verbose=0,\n",
    "            warm_start=False)\n",
    "\n",
    "best_param.fit(xTrain,yTrain)\n",
    "pred = best_param.predict(xTest)\n",
    "accuracy = accuracy_score(pred, yTest)\n",
    "best_param1.fit(xTrain,yTrain)\n",
    "pred1 = best_param1.predict(xTest)\n",
    "accuracy1 = accuracy_score(pred1, yTest)\n",
    "best_param2.fit(xTrain,yTrain)\n",
    "pred2 = best_param2.predict(xTest)\n",
    "accuracy2 = accuracy_score(pred2, yTest)\n",
    "\n",
    "print(accuracy)\n",
    "print(accuracy1)\n",
    "print(accuracy1)\n"
   ]
  },
  {
   "cell_type": "code",
   "execution_count": 17,
   "metadata": {},
   "outputs": [
    {
     "name": "stdout",
     "output_type": "stream",
     "text": [
      "0.803030303030303\n"
     ]
    },
    {
     "name": "stderr",
     "output_type": "stream",
     "text": [
      "/Users/Travis/anaconda3/lib/python3.7/site-packages/sklearn/ensemble/forest.py:246: FutureWarning: The default value of n_estimators will change from 10 in version 0.20 to 100 in 0.22.\n",
      "  \"10 in version 0.20 to 100 in 0.22.\", FutureWarning)\n"
     ]
    }
   ],
   "source": [
    "default_param = RandomForestClassifier()\n",
    "default_param.fit(xTrain,yTrain)\n",
    "def_pred = default_param.predict(xTest)\n",
    "def_accuracy = accuracy_score(def_pred,yTest)\n",
    "print(def_accuracy)"
   ]
  },
  {
   "cell_type": "code",
   "execution_count": null,
   "metadata": {},
   "outputs": [],
   "source": []
  }
 ],
 "metadata": {
  "kernelspec": {
   "display_name": "Python 3",
   "language": "python",
   "name": "python3"
  },
  "language_info": {
   "codemirror_mode": {
    "name": "ipython",
    "version": 3
   },
   "file_extension": ".py",
   "mimetype": "text/x-python",
   "name": "python",
   "nbconvert_exporter": "python",
   "pygments_lexer": "ipython3",
   "version": "3.7.1"
  }
 },
 "nbformat": 4,
 "nbformat_minor": 2
}
